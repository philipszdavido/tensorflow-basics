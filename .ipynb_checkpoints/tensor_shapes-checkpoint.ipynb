{
 "cells": [
  {
   "cell_type": "code",
   "execution_count": null,
   "metadata": {},
   "outputs": [],
   "source": [
    "# tensor_shapes.py\n",
    "import tensorflow as tf"
   ]
  },
  {
   "cell_type": "code",
   "execution_count": null,
   "metadata": {},
   "outputs": [],
   "source": [
    "# Shapes that specify a 0-D Tensor (scalar) \n",
    "# e.g. any single number: 7, 1, 3, 4, etc.\n",
    "s_0_list = []\n",
    "s_0_tuple = ()\n",
    "\n",
    "list_0_D = tf.random_uniform(s_0_list, 1, 4)\n",
    "tuple_0_D = tf.random_uniform(s_0_tuple, 1, 5)\n",
    "\n",
    "list_0_D_var = tf.Variable(list_0_D, name='list_0')\n",
    "tuple_0_D_var = tf.Variable(tuple_0_D, name='tuple_0')\n",
    "\n",
    "# Shape that describes a vector of length 3\n",
    "# e.g. [1, 2, 3]\n",
    "s_1 = [3]\n",
    "s_1_val = tf.random_uniform(s_1, 1, 4)\n",
    "s_1_var = tf.Variable(s_1_val, name='s_1')\n",
    "\n",
    "# Shape that describes a 3-by-2 matrix\n",
    "# e.g [[1 ,2],\n",
    "# [3, 4],\n",
    "# [5, 6]]\n",
    "s_2 = (3, 2)\n",
    "s_2_val = tf.random_uniform(s_2, 1, 4)\n",
    "s_2_var = tf.Variable(s_2_val, name='s_2')"
   ]
  },
  {
   "cell_type": "code",
   "execution_count": null,
   "metadata": {},
   "outputs": [],
   "source": [
    "init = tf.global_variables_initializer()\n",
    "with tf.Session() as sess:\n",
    " sess.run(init)\n",
    " print(\"\\nList 0-D Tensor: \\n{}\".format(sess.run(list_0_D_var)))\n",
    " print(\"\\nTuple 0-D Tensor: \\n{}\".format(sess.run(tuple_0_D_var)))\n",
    "\n",
    " print(\"\\n1-D Tensor: \\n{}\".format(sess.run(s_1_var)))\n",
    "\n",
    " print(\"\\nMatrix 3-by-2: \\n{}\".format(sess.run(s_2_var)))\n",
    " print(sess.run(tf.shape(s_2_val, name=\"mystery_shape\")))"
   ]
  }
 ],
 "metadata": {
  "kernelspec": {
   "display_name": "Python 3",
   "language": "python",
   "name": "python3"
  },
  "language_info": {
   "codemirror_mode": {
    "name": "ipython",
    "version": 3
   },
   "file_extension": ".py",
   "mimetype": "text/x-python",
   "name": "python",
   "nbconvert_exporter": "python",
   "pygments_lexer": "ipython3",
   "version": "3.6.2"
  }
 },
 "nbformat": 4,
 "nbformat_minor": 2
}
